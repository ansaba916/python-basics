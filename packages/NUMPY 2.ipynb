{
 "cells": [
  {
   "cell_type": "code",
   "execution_count": 1,
   "id": "399b7199",
   "metadata": {},
   "outputs": [],
   "source": [
    "import numpy as np"
   ]
  },
  {
   "cell_type": "code",
   "execution_count": 2,
   "id": "853a3564",
   "metadata": {},
   "outputs": [
    {
     "name": "stdout",
     "output_type": "stream",
     "text": [
      "[2 4 6]\n"
     ]
    }
   ],
   "source": [
    "a=np.array([2,4,6])\n",
    "print(a)"
   ]
  },
  {
   "cell_type": "code",
   "execution_count": 4,
   "id": "603c83a7",
   "metadata": {},
   "outputs": [
    {
     "name": "stdout",
     "output_type": "stream",
     "text": [
      "[[1 3 5]\n",
      " [2 4 6]]\n"
     ]
    }
   ],
   "source": [
    "a=np.array([(1,3,5),(2,4,6)])\n",
    "print(a)"
   ]
  },
  {
   "cell_type": "code",
   "execution_count": 14,
   "id": "ab87219b",
   "metadata": {},
   "outputs": [
    {
     "name": "stdout",
     "output_type": "stream",
     "text": [
      "3\n"
     ]
    }
   ],
   "source": [
    "#dimention\n",
    "n=np.array([[(1,2,3),(2,3,4),(8,7,6),(9,0,1)]])\n",
    "print(n.ndim)"
   ]
  },
  {
   "cell_type": "code",
   "execution_count": 12,
   "id": "d90f8d02",
   "metadata": {},
   "outputs": [
    {
     "name": "stdout",
     "output_type": "stream",
     "text": [
      "4\n"
     ]
    }
   ],
   "source": [
    "#to calculate/fine the byte size\n",
    "\n",
    "print(n.itemsize)\n"
   ]
  },
  {
   "cell_type": "code",
   "execution_count": 13,
   "id": "2d31b684",
   "metadata": {},
   "outputs": [
    {
     "name": "stdout",
     "output_type": "stream",
     "text": [
      "int32\n"
     ]
    }
   ],
   "source": [
    "# to know the data type\n",
    "\n",
    "print(n.dtype)"
   ]
  },
  {
   "cell_type": "code",
   "execution_count": 18,
   "id": "20c7151c",
   "metadata": {},
   "outputs": [
    {
     "name": "stdout",
     "output_type": "stream",
     "text": [
      "12\n",
      "6\n"
     ]
    },
    {
     "data": {
      "text/plain": [
       "48"
      ]
     },
     "execution_count": 18,
     "metadata": {},
     "output_type": "execute_result"
    }
   ],
   "source": [
    "#to get the size of an array  \n",
    "\n",
    "print(n.size)\n",
    "print(a.size)\n",
    "\n",
    "n.nbytes"
   ]
  },
  {
   "cell_type": "code",
   "execution_count": 19,
   "id": "592e51ab",
   "metadata": {
    "scrolled": true
   },
   "outputs": [
    {
     "name": "stdout",
     "output_type": "stream",
     "text": [
      "(2, 7)\n",
      "[[ 1  2  3  4  5  6  7]\n",
      " [ 8  9 10 11 12 13 14]]\n"
     ]
    }
   ],
   "source": [
    "#to get the shape of an array\n",
    "\n",
    "r=np.array([(1,2,3,4,5,6,7),(8,9,10,11,12,13,14)])\n",
    "print(r.shape)\n",
    "print(r)"
   ]
  },
  {
   "cell_type": "code",
   "execution_count": 20,
   "id": "c03a9990",
   "metadata": {},
   "outputs": [
    {
     "name": "stdout",
     "output_type": "stream",
     "text": [
      "[[1 2]\n",
      " [3 4]\n",
      " [3 4]\n",
      " [5 6]]\n"
     ]
    }
   ],
   "source": [
    "#to reshapean array\n",
    "#it is two dimensional array with 2 rows and 4 columns\n",
    "\n",
    "ar=np.array([(1,2,3,4),(3,4,5,6)])\n",
    "ar=ar.reshape(4,2)\n",
    "print(ar)"
   ]
  },
  {
   "cell_type": "code",
   "execution_count": 23,
   "id": "ec4a7273",
   "metadata": {},
   "outputs": [
    {
     "name": "stdout",
     "output_type": "stream",
     "text": [
      "[[1 2 3 4]\n",
      " [3 4 5 6]]\n",
      "3\n",
      "3\n",
      "6\n"
     ]
    }
   ],
   "source": [
    "#slicing\n",
    "\n",
    "ar1=np.array([(1,2,3,4),(3,4,5,6)])\n",
    "print(ar1)\n",
    "print(ar1[0,2])\n",
    "print(ar1[1,0])\n",
    "print(ar1[1,3])"
   ]
  },
  {
   "cell_type": "code",
   "execution_count": 32,
   "id": "ed7bc38b",
   "metadata": {},
   "outputs": [
    {
     "name": "stdout",
     "output_type": "stream",
     "text": [
      "4\n",
      "6\n"
     ]
    }
   ],
   "source": [
    "ar2=np.array([(1,2,3,4),(3,4,5,6),(5,6,7,8)])\n",
    "\n",
    "print(ar2[0,3])\n",
    "print(ar2[1,3])\n"
   ]
  },
  {
   "cell_type": "code",
   "execution_count": 28,
   "id": "8c047d07",
   "metadata": {},
   "outputs": [
    {
     "name": "stdout",
     "output_type": "stream",
     "text": [
      "[1.  1.5 2.  2.5 3. ]\n"
     ]
    }
   ],
   "source": [
    "#linespace\n",
    "ls=np.linspace(1,3,5)\n",
    "print(ls)"
   ]
  },
  {
   "cell_type": "code",
   "execution_count": 33,
   "id": "4cd23b05",
   "metadata": {},
   "outputs": [
    {
     "name": "stdout",
     "output_type": "stream",
     "text": [
      "3\n",
      "1\n",
      "6\n"
     ]
    }
   ],
   "source": [
    "#find maximum(large element) from the array\n",
    "\n",
    "m1=np.array([1,2,3])\n",
    "print(m1.max())\n",
    "\n",
    "#find maximum\n",
    "\n",
    "print(m1.min())\n",
    "\n",
    "#to get the sum of the array\n",
    "\n",
    "print(m1.sum())\n"
   ]
  },
  {
   "cell_type": "code",
   "execution_count": 7,
   "id": "85242eb0",
   "metadata": {},
   "outputs": [
    {
     "name": "stdout",
     "output_type": "stream",
     "text": [
      "[[1 2 3 4]\n",
      " [3 4 5 6]]\n",
      "[10 18]\n",
      "[10 18]\n"
     ]
    }
   ],
   "source": [
    "# axis=0,so we get the sum of each column\n",
    "\n",
    "ar3=np.array([(1,2,3,4),(3,4,5,6)])\n",
    "print(ar3)\n",
    "print(ar3.sum(axis=1))\n",
    "\n",
    "#axis=1,so we get the sum of each row\n",
    "\n",
    "print(ar3.sum(axis=1))"
   ]
  },
  {
   "cell_type": "code",
   "execution_count": null,
   "id": "6164334f",
   "metadata": {},
   "outputs": [],
   "source": []
  }
 ],
 "metadata": {
  "kernelspec": {
   "display_name": "Python 3 (ipykernel)",
   "language": "python",
   "name": "python3"
  },
  "language_info": {
   "codemirror_mode": {
    "name": "ipython",
    "version": 3
   },
   "file_extension": ".py",
   "mimetype": "text/x-python",
   "name": "python",
   "nbconvert_exporter": "python",
   "pygments_lexer": "ipython3",
   "version": "3.9.12"
  }
 },
 "nbformat": 4,
 "nbformat_minor": 5
}
